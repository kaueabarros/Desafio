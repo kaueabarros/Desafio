{
 "cells": [
  {
   "cell_type": "code",
   "execution_count": 6,
   "metadata": {},
   "outputs": [
    {
     "data": {
      "text/plain": [
       "AtlasView({'Maria': {}, 'Vinicius': {}, 'Carlos': {}, 'João': {}})"
      ]
     },
     "execution_count": 6,
     "metadata": {},
     "output_type": "execute_result"
    }
   ],
   "source": [
    "import networkx as nx\n",
    "import matplotlib.pyplot as plt\n",
    "\n",
    "grafo = nx.Graph()\n",
    "\n",
    "grafo.add_node('Ana')\n",
    "grafo.add_node('Maria')\n",
    "grafo.add_node('Vinicius')\n",
    "grafo.add_node('Luiza')\n",
    "grafo.add_node('João')\n",
    "grafo.add_node('Carlos')\n",
    "grafo.add_edge('Ana', 'Maria')\n",
    "grafo.add_edge('Ana', 'Vinicius')\n",
    "grafo.add_edge('Ana', 'Carlos')\n",
    "grafo.add_edge('Ana', 'João')\n",
    "grafo.add_edge('Maria', 'Ana')\n",
    "grafo.add_edge('Maria', 'Vinicius')\n",
    "grafo.add_edge('Vinicius', 'Ana')\n",
    "grafo.add_edge('Vinicius', 'Maria')\n",
    "grafo.add_edge('Carlos', 'Ana')\n",
    "grafo.add_edge('João', 'Ana')\n",
    "grafo.add_edge('João', 'Luzia')\n",
    "grafo.add_edge('Luzia', 'João')\n",
    "grafo.adj['Ana']\n",
    "\n"
   ]
  },
  {
   "cell_type": "code",
   "execution_count": null,
   "metadata": {},
   "outputs": [],
   "source": [
    "nx.draw(grafo, with_labels = True)"
   ]
  }
 ],
 "metadata": {
  "interpreter": {
   "hash": "1d029e3257cb0f429eb171d5646a3c20ca8288c0604cd7e555834c53a1872999"
  },
  "kernelspec": {
   "display_name": "Python 3.9.7 ('base')",
   "language": "python",
   "name": "python3"
  },
  "language_info": {
   "codemirror_mode": {
    "name": "ipython",
    "version": 3
   },
   "file_extension": ".py",
   "mimetype": "text/x-python",
   "name": "python",
   "nbconvert_exporter": "python",
   "pygments_lexer": "ipython3",
   "version": "3.9.7"
  },
  "orig_nbformat": 4
 },
 "nbformat": 4,
 "nbformat_minor": 2
}
